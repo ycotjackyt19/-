{
 "cells": [
  {
   "cell_type": "code",
   "execution_count": 1,
   "id": "7fc27bea",
   "metadata": {},
   "outputs": [],
   "source": [
    "import tensorflow as tf\n",
    "import numpy as np\n",
    "import matplotlib.pyplot as plt"
   ]
  },
  {
   "cell_type": "code",
   "execution_count": 2,
   "id": "5439190a",
   "metadata": {},
   "outputs": [],
   "source": [
    "\n",
    "mnist = tf.keras.datasets.mnist\n",
    "\n",
    "(x_train, y_train), (x_test, y_test) = mnist.load_data()\n",
    "\n",
    "x_train, x_test = x_train / 255.0, x_test / 255.0"
   ]
  },
  {
   "cell_type": "code",
   "execution_count": 3,
   "id": "2b187a9f",
   "metadata": {},
   "outputs": [
    {
     "data": {
      "image/png": "[encoded data removed]",
      "text/plain": [
       "<Figure size 432x288 with 1 Axes>"
      ]
     },
     "metadata": {
      "needs_background": "light"
     },
     "output_type": "display_data"
    },
    {
     "name": "stdout",
     "output_type": "stream",
     "text": [
      "Label: 4\n"
     ]
    }
   ],
   "source": [
    "plt.imshow(x_train[60], cmap='gray')\n",
    "plt.show()\n",
    "print(\"Label:\",y_train[60])"
   ]
  },
  {
   "cell_type": "code",
   "execution_count": 4,
   "id": "7d633769",
   "metadata": {},
   "outputs": [
    {
     "name": "stdout",
     "output_type": "stream",
     "text": [
      "60000\n",
      "(28, 28)\n"
     ]
    }
   ],
   "source": [
    "print(len(x_train))\n",
    "print(x_train[0].shape) "
   ]
  },
  {
   "cell_type": "code",
   "execution_count": 5,
   "id": "c7c7bf53",
   "metadata": {},
   "outputs": [
    {
     "name": "stdout",
     "output_type": "stream",
     "text": [
      "10000\n",
      "(28, 28)\n"
     ]
    }
   ],
   "source": [
    "print(len(x_test))\n",
    "print(x_test[0].shape)"
   ]
  },
  {
   "cell_type": "code",
   "execution_count": 6,
   "id": "14215374",
   "metadata": {},
   "outputs": [],
   "source": [
    "\n",
    "model = tf.keras.models.Sequential([\n",
    "  tf.keras.layers.Flatten(input_shape=(28, 28)),\n",
    "  tf.keras.layers.Dense(128, activation='relu'),\n",
    "  tf.keras.layers.Dropout(0.2),\n",
    "  tf.keras.layers.Dense(10, activation='softmax')\n",
    "])\n",
    "\n",
    "model.compile(optimizer='adam',\n",
    "              loss='sparse_categorical_crossentropy',\n",
    "              metrics=['accuracy'])"
   ]
  },
  {
   "cell_type": "code",
   "execution_count": 7,
   "id": "6820bfe9",
   "metadata": {},
   "outputs": [
    {
     "name": "stdout",
     "output_type": "stream",
     "text": [
      "Epoch 1/20\n",
      "1200/1200 [==============================] - 5s 3ms/step - loss: 0.3358 - accuracy: 0.9035 - val_loss: 0.1675 - val_accuracy: 0.9523\n",
      "Epoch 2/20\n",
      "1200/1200 [==============================] - 4s 3ms/step - loss: 0.1635 - accuracy: 0.9510 - val_loss: 0.1203 - val_accuracy: 0.9643\n",
      "Epoch 3/20\n",
      "1200/1200 [==============================] - 4s 3ms/step - loss: 0.1203 - accuracy: 0.9635 - val_loss: 0.0985 - val_accuracy: 0.9719\n",
      "Epoch 4/20\n",
      "1200/1200 [==============================] - 3s 3ms/step - loss: 0.0991 - accuracy: 0.9701 - val_loss: 0.0857 - val_accuracy: 0.9732\n",
      "Epoch 5/20\n",
      "1200/1200 [==============================] - 3s 2ms/step - loss: 0.0822 - accuracy: 0.9741 - val_loss: 0.0846 - val_accuracy: 0.9751\n",
      "Epoch 6/20\n",
      "1200/1200 [==============================] - 3s 2ms/step - loss: 0.0709 - accuracy: 0.9780 - val_loss: 0.0808 - val_accuracy: 0.9758\n",
      "Epoch 7/20\n",
      "1200/1200 [==============================] - 3s 3ms/step - loss: 0.0618 - accuracy: 0.9805 - val_loss: 0.0827 - val_accuracy: 0.9755\n",
      "Epoch 8/20\n",
      "1200/1200 [==============================] - 3s 3ms/step - loss: 0.0544 - accuracy: 0.9831 - val_loss: 0.0800 - val_accuracy: 0.9762\n",
      "Epoch 9/20\n",
      "1200/1200 [==============================] - 3s 3ms/step - loss: 0.0513 - accuracy: 0.9826 - val_loss: 0.0767 - val_accuracy: 0.9773\n",
      "Epoch 10/20\n",
      "1200/1200 [==============================] - 3s 2ms/step - loss: 0.0482 - accuracy: 0.9843 - val_loss: 0.0788 - val_accuracy: 0.9772\n",
      "Epoch 11/20\n",
      "1200/1200 [==============================] - 3s 2ms/step - loss: 0.0430 - accuracy: 0.9856 - val_loss: 0.0780 - val_accuracy: 0.9766\n",
      "Epoch 12/20\n",
      "1200/1200 [==============================] - 3s 3ms/step - loss: 0.0394 - accuracy: 0.9870 - val_loss: 0.0807 - val_accuracy: 0.9787\n",
      "Epoch 13/20\n",
      "1200/1200 [==============================] - 3s 2ms/step - loss: 0.0374 - accuracy: 0.9880 - val_loss: 0.0832 - val_accuracy: 0.9778\n",
      "Epoch 14/20\n",
      "1200/1200 [==============================] - 3s 3ms/step - loss: 0.0345 - accuracy: 0.9885 - val_loss: 0.0781 - val_accuracy: 0.9797\n",
      "Epoch 15/20\n",
      "1200/1200 [==============================] - 3s 3ms/step - loss: 0.0328 - accuracy: 0.9890 - val_loss: 0.0854 - val_accuracy: 0.9784\n",
      "Epoch 16/20\n",
      "1200/1200 [==============================] - 4s 3ms/step - loss: 0.0306 - accuracy: 0.9900 - val_loss: 0.0841 - val_accuracy: 0.9776\n",
      "Epoch 17/20\n",
      "1200/1200 [==============================] - 4s 3ms/step - loss: 0.0291 - accuracy: 0.9906 - val_loss: 0.0764 - val_accuracy: 0.9797\n",
      "Epoch 18/20\n",
      "1200/1200 [==============================] - 4s 3ms/step - loss: 0.0273 - accuracy: 0.9904 - val_loss: 0.0798 - val_accuracy: 0.9804\n",
      "Epoch 19/20\n",
      "1200/1200 [==============================] - 3s 3ms/step - loss: 0.0256 - accuracy: 0.9911 - val_loss: 0.0833 - val_accuracy: 0.9783\n",
      "Epoch 20/20\n",
      "1200/1200 [==============================] - 3s 2ms/step - loss: 0.0243 - accuracy: 0.9919 - val_loss: 0.0860 - val_accuracy: 0.9777\n",
      "313/313 - 1s - loss: 0.0821 - accuracy: 0.9787\n"
     ]
    },
    {
     "data": {
      "text/plain": [
       "[0.08205309510231018, 0.9786999821662903]"
      ]
     },
     "execution_count": 7,
     "metadata": {},
     "output_type": "execute_result"
    }
   ],
   "source": [
    "\n",
    "history = model.fit(x_train, y_train,batch_size=40, epochs=20, validation_split=0.2)\n",
    "model.evaluate(x_test, y_test, verbose=2)"
   ]
  },
  {
   "cell_type": "code",
   "execution_count": 8,
   "id": "9cef5f9b",
   "metadata": {},
   "outputs": [
    {
     "data": {
      "image/png": "[encoded data removed]",
      "text/plain": [
       "<Figure size 432x288 with 1 Axes>"
      ]
     },
     "metadata": {
      "needs_background": "light"
     },
     "output_type": "display_data"
    }
   ],
   "source": [
    "# 绘制训练 & 验证的损失值\n",
    "plt.plot(history.history['loss'])\n",
    "plt.plot(history.history['val_loss'])\n",
    "plt.title('Model loss')\n",
    "plt.ylabel('Loss')\n",
    "plt.xlabel('Epoch')\n",
    "plt.legend(['Train', 'Test'], loc='upper left')\n",
    "plt.show()"
   ]
  },
  {
   "cell_type": "code",
   "execution_count": 9,
   "id": "fff51f0a",
   "metadata": {},
   "outputs": [
    {
     "data": {
      "text/plain": [
       "array([7, 2, 1, ..., 4, 5, 6], dtype=int64)"
      ]
     },
     "execution_count": 9,
     "metadata": {},
     "output_type": "execute_result"
    }
   ],
   "source": [
    "arr = model.predict(x_test)\n",
    "result = np.argmax(arr,axis=1)\n",
    "result"
   ]
  },
  {
   "cell_type": "code",
   "execution_count": 10,
   "id": "2f570e54",
   "metadata": {
    "scrolled": true
   },
   "outputs": [
    {
     "data": {
      "text/plain": [
       "array([7, 2, 1, ..., 4, 5, 6], dtype=uint8)"
      ]
     },
     "execution_count": 10,
     "metadata": {},
     "output_type": "execute_result"
    }
   ],
   "source": [
    "y_test"
   ]
  },
  {
   "cell_type": "code",
   "execution_count": 11,
   "id": "27367136",
   "metadata": {},
   "outputs": [
    {
     "data": {
      "text/plain": [
       "[119,\n",
       " 151,\n",
       " 241,\n",
       " 247,\n",
       " 321,\n",
       " 340,\n",
       " 445,\n",
       " 449,\n",
       " 495,\n",
       " 582,\n",
       " 613,\n",
       " 619,\n",
       " 684,\n",
       " 691,\n",
       " 707,\n",
       " 720,\n",
       " 726,\n",
       " 740,\n",
       " 810,\n",
       " 813,\n",
       " 900,\n",
       " 938,\n",
       " 956,\n",
       " 1014,\n",
       " 1112,\n",
       " 1156,\n",
       " 1178,\n",
       " 1182,\n",
       " 1192,\n",
       " 1226,\n",
       " 1232,\n",
       " 1242,\n",
       " 1247,\n",
       " 1260,\n",
       " 1299,\n",
       " 1319,\n",
       " 1328,\n",
       " 1364,\n",
       " 1378,\n",
       " 1393,\n",
       " 1500,\n",
       " 1522,\n",
       " 1530,\n",
       " 1549,\n",
       " 1553,\n",
       " 1609,\n",
       " 1678,\n",
       " 1681,\n",
       " 1709,\n",
       " 1717,\n",
       " 1754,\n",
       " 1790,\n",
       " 1850,\n",
       " 1901,\n",
       " 1941,\n",
       " 1984,\n",
       " 2004,\n",
       " 2016,\n",
       " 2035,\n",
       " 2044,\n",
       " 2053,\n",
       " 2070,\n",
       " 2098,\n",
       " 2109,\n",
       " 2118,\n",
       " 2135,\n",
       " 2162,\n",
       " 2182,\n",
       " 2189,\n",
       " 2272,\n",
       " 2291,\n",
       " 2293,\n",
       " 2299,\n",
       " 2329,\n",
       " 2369,\n",
       " 2387,\n",
       " 2406,\n",
       " 2414,\n",
       " 2462,\n",
       " 2488,\n",
       " 2514,\n",
       " 2607,\n",
       " 2648,\n",
       " 2654,\n",
       " 2771,\n",
       " 2810,\n",
       " 2921,\n",
       " 2939,\n",
       " 2953,\n",
       " 3012,\n",
       " 3060,\n",
       " 3073,\n",
       " 3117,\n",
       " 3388,\n",
       " 3405,\n",
       " 3460,\n",
       " 3490,\n",
       " 3503,\n",
       " 3520,\n",
       " 3558,\n",
       " 3567,\n",
       " 3597,\n",
       " 3751,\n",
       " 3767,\n",
       " 3796,\n",
       " 3808,\n",
       " 3817,\n",
       " 3838,\n",
       " 3853,\n",
       " 3859,\n",
       " 3893,\n",
       " 3906,\n",
       " 3943,\n",
       " 3968,\n",
       " 4000,\n",
       " 4027,\n",
       " 4065,\n",
       " 4075,\n",
       " 4078,\n",
       " 4156,\n",
       " 4163,\n",
       " 4176,\n",
       " 4199,\n",
       " 4224,\n",
       " 4248,\n",
       " 4255,\n",
       " 4269,\n",
       " 4271,\n",
       " 4289,\n",
       " 4294,\n",
       " 4360,\n",
       " 4369,\n",
       " 4419,\n",
       " 4497,\n",
       " 4504,\n",
       " 4534,\n",
       " 4536,\n",
       " 4615,\n",
       " 4731,\n",
       " 4740,\n",
       " 4751,\n",
       " 4807,\n",
       " 4823,\n",
       " 4876,\n",
       " 4880,\n",
       " 4890,\n",
       " 4956,\n",
       " 4966,\n",
       " 5140,\n",
       " 5331,\n",
       " 5613,\n",
       " 5642,\n",
       " 5676,\n",
       " 5749,\n",
       " 5757,\n",
       " 5887,\n",
       " 5922,\n",
       " 5936,\n",
       " 5937,\n",
       " 5955,\n",
       " 5972,\n",
       " 5973,\n",
       " 5982,\n",
       " 6166,\n",
       " 6505,\n",
       " 6555,\n",
       " 6560,\n",
       " 6571,\n",
       " 6574,\n",
       " 6576,\n",
       " 6597,\n",
       " 6598,\n",
       " 6625,\n",
       " 6651,\n",
       " 6755,\n",
       " 6783,\n",
       " 6847,\n",
       " 6945,\n",
       " 7216,\n",
       " 7732,\n",
       " 7800,\n",
       " 7886,\n",
       " 8094,\n",
       " 8311,\n",
       " 8325,\n",
       " 8408,\n",
       " 8520,\n",
       " 8527,\n",
       " 9009,\n",
       " 9015,\n",
       " 9019,\n",
       " 9024,\n",
       " 9253,\n",
       " 9280,\n",
       " 9587,\n",
       " 9634,\n",
       " 9664,\n",
       " 9679,\n",
       " 9692,\n",
       " 9729,\n",
       " 9740,\n",
       " 9745,\n",
       " 9768,\n",
       " 9770,\n",
       " 9777,\n",
       " 9782,\n",
       " 9793,\n",
       " 9808,\n",
       " 9811,\n",
       " 9839,\n",
       " 9858,\n",
       " 9904,\n",
       " 9982]"
      ]
     },
     "execution_count": 11,
     "metadata": {},
     "output_type": "execute_result"
    }
   ],
   "source": [
    "err_result = []\n",
    "for i in range(len(y_test)):\n",
    "    if(result[i] != y_test[i]):\n",
    "        err_result.append(i)\n",
    "err_result"
   ]
  },
  {
   "cell_type": "code",
   "execution_count": 12,
   "id": "b4722635",
   "metadata": {
    "scrolled": true
   },
   "outputs": [
    {
     "data": {
      "text/plain": [
       "(array([ 119,  151,  241,  247,  321,  340,  445,  449,  495,  582,  613,\n",
       "         619,  684,  691,  707,  720,  726,  740,  810,  813,  900,  938,\n",
       "         956, 1014, 1112, 1156, 1178, 1182, 1192, 1226, 1232, 1242, 1247,\n",
       "        1260, 1299, 1319, 1328, 1364, 1378, 1393, 1500, 1522, 1530, 1549,\n",
       "        1553, 1609, 1678, 1681, 1709, 1717, 1754, 1790, 1850, 1901, 1941,\n",
       "        1984, 2004, 2016, 2035, 2044, 2053, 2070, 2098, 2109, 2118, 2135,\n",
       "        2162, 2182, 2189, 2272, 2291, 2293, 2299, 2329, 2369, 2387, 2406,\n",
       "        2414, 2462, 2488, 2514, 2607, 2648, 2654, 2771, 2810, 2921, 2939,\n",
       "        2953, 3012, 3060, 3073, 3117, 3388, 3405, 3460, 3490, 3503, 3520,\n",
       "        3558, 3567, 3597, 3751, 3767, 3796, 3808, 3817, 3838, 3853, 3859,\n",
       "        3893, 3906, 3943, 3968, 4000, 4027, 4065, 4075, 4078, 4156, 4163,\n",
       "        4176, 4199, 4224, 4248, 4255, 4269, 4271, 4289, 4294, 4360, 4369,\n",
       "        4419, 4497, 4504, 4534, 4536, 4615, 4731, 4740, 4751, 4807, 4823,\n",
       "        4876, 4880, 4890, 4956, 4966, 5140, 5331, 5613, 5642, 5676, 5749,\n",
       "        5757, 5887, 5922, 5936, 5937, 5955, 5972, 5973, 5982, 6166, 6505,\n",
       "        6555, 6560, 6571, 6574, 6576, 6597, 6598, 6625, 6651, 6755, 6783,\n",
       "        6847, 6945, 7216, 7732, 7800, 7886, 8094, 8311, 8325, 8408, 8520,\n",
       "        8527, 9009, 9015, 9019, 9024, 9253, 9280, 9587, 9634, 9664, 9679,\n",
       "        9692, 9729, 9740, 9745, 9768, 9770, 9777, 9782, 9793, 9808, 9811,\n",
       "        9839, 9858, 9904, 9982], dtype=int64),)"
      ]
     },
     "execution_count": 12,
     "metadata": {},
     "output_type": "execute_result"
    }
   ],
   "source": [
    "np.where(y_test!=result)"
   ]
  },
  {
   "cell_type": "code",
   "execution_count": 14,
   "id": "6a601eb4",
   "metadata": {},
   "outputs": [
    {
     "data": {
      "image/png": "[encoded data removed]",
      "text/plain": [
       "<Figure size 432x288 with 1 Axes>"
      ]
     },
     "metadata": {
      "needs_background": "light"
     },
     "output_type": "display_data"
    },
    {
     "name": "stdout",
     "output_type": "stream",
     "text": [
      "Ground Truth Label: 4\n",
      "Predict Label: 9\n"
     ]
    },
    {
     "data": {
      "image/png": "[encoded data removed]",
      "text/plain": [
       "<Figure size 432x288 with 1 Axes>"
      ]
     },
     "metadata": {
      "needs_background": "light"
     },
     "output_type": "display_data"
    },
    {
     "name": "stdout",
     "output_type": "stream",
     "text": [
      "Ground Truth Label: 7\n",
      "Predict Label: 9\n"
     ]
    },
    {
     "data": {
      "image/png": "[encoded data removed]",
      "text/plain": [
       "<Figure size 432x288 with 1 Axes>"
      ]
     },
     "metadata": {
      "needs_background": "light"
     },
     "output_type": "display_data"
    },
    {
     "name": "stdout",
     "output_type": "stream",
     "text": [
      "Ground Truth Label: 2\n",
      "Predict Label: 0\n"
     ]
    },
    {
     "data": {
      "image/png": "[encoded data removed]",
      "text/plain": [
       "<Figure size 432x288 with 1 Axes>"
      ]
     },
     "metadata": {
      "needs_background": "light"
     },
     "output_type": "display_data"
    },
    {
     "name": "stdout",
     "output_type": "stream",
     "text": [
      "Ground Truth Label: 3\n",
      "Predict Label: 7\n"
     ]
    },
    {
     "data": {
      "image/png": "[encoded data removed]",
      "text/plain": [
       "<Figure size 432x288 with 1 Axes>"
      ]
     },
     "metadata": {
      "needs_background": "light"
     },
     "output_type": "display_data"
    },
    {
     "name": "stdout",
     "output_type": "stream",
     "text": [
      "Ground Truth Label: 6\n",
      "Predict Label: 0\n"
     ]
    },
    {
     "data": {
      "image/png": "[encoded data removed]",
      "text/plain": [
       "<Figure size 432x288 with 1 Axes>"
      ]
     },
     "metadata": {
      "needs_background": "light"
     },
     "output_type": "display_data"
    },
    {
     "name": "stdout",
     "output_type": "stream",
     "text": [
      "Ground Truth Label: 6\n",
      "Predict Label: 1\n"
     ]
    },
    {
     "data": {
      "image/png": "[encoded data removed]",
      "text/plain": [
       "<Figure size 432x288 with 1 Axes>"
      ]
     },
     "metadata": {
      "needs_background": "light"
     },
     "output_type": "display_data"
    },
    {
     "name": "stdout",
     "output_type": "stream",
     "text": [
      "Ground Truth Label: 5\n",
      "Predict Label: 8\n"
     ]
    },
    {
     "data": {
      "image/png": "[encoded data removed]",
      "text/plain": [
       "<Figure size 432x288 with 1 Axes>"
      ]
     },
     "metadata": {
      "needs_background": "light"
     },
     "output_type": "display_data"
    },
    {
     "name": "stdout",
     "output_type": "stream",
     "text": [
      "Ground Truth Label: 1\n",
      "Predict Label: 2\n"
     ]
    },
    {
     "data": {
      "image/png": "[encoded data removed]",
      "text/plain": [
       "<Figure size 432x288 with 1 Axes>"
      ]
     },
     "metadata": {
      "needs_background": "light"
     },
     "output_type": "display_data"
    },
    {
     "name": "stdout",
     "output_type": "stream",
     "text": [
      "Ground Truth Label: 9\n",
      "Predict Label: 1\n"
     ]
    },
    {
     "data": {
      "image/png": "[encoded data removed]",
      "text/plain": [
       "<Figure size 432x288 with 1 Axes>"
      ]
     },
     "metadata": {
      "needs_background": "light"
     },
     "output_type": "display_data"
    },
    {
     "name": "stdout",
     "output_type": "stream",
     "text": [
      "Ground Truth Label: 8\n",
      "Predict Label: 0\n"
     ]
    }
   ],
   "source": [
    "idx = 47\n",
    "\n",
    "for idx in range(60,70):\n",
    "    plt.imshow(x_test[err_result[idx]], cmap='gray')\n",
    "    plt.show()\n",
    "    print(\"Ground Truth Label:\",y_test[err_result[idx]])\n",
    "    print(\"Predict Label:\",result[err_result[idx]])"
   ]
  },
  {
   "cell_type": "code",
   "execution_count": null,
   "id": "01dc8ca5",
   "metadata": {},
   "outputs": [],
   "source": []
  },
  {
   "cell_type": "code",
   "execution_count": 41,
   "id": "c819c6b4",
   "metadata": {},
   "outputs": [
    {
     "data": {
      "text/plain": [
       "[0, 1, 2]"
      ]
     },
     "execution_count": 41,
     "metadata": {},
     "output_type": "execute_result"
    }
   ],
   "source": [
    "list(range(3))"
   ]
  }
 ],
 "metadata": {
  "kernelspec": {
   "display_name": "Python 3",
   "language": "python",
   "name": "python3"
  },
  "language_info": {
   "codemirror_mode": {
    "name": "ipython",
    "version": 3
   },
   "file_extension": ".py",
   "mimetype": "text/x-python",
   "name": "python",
   "nbconvert_exporter": "python",
   "pygments_lexer": "ipython3",
   "version": "3.8.8"
  }
 },
 "nbformat": 4,
 "nbformat_minor": 5
}
