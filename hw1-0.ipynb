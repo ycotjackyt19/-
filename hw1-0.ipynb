{
 "cells": [
  {
   "cell_type": "code",
   "execution_count": 1,
   "id": "58e92dc5",
   "metadata": {},
   "outputs": [],
   "source": [
    "import numpy as np"
   ]
  },
  {
   "cell_type": "code",
   "execution_count": 17,
   "id": "6808353f",
   "metadata": {},
   "outputs": [
    {
     "name": "stdout",
     "output_type": "stream",
     "text": [
      "X1=\n",
      " [[0.94444444]\n",
      " [3.38888889]\n",
      " [2.27777778]]\n",
      "a1 =  1.0\n",
      "a2 =  2.99999999\n",
      "a3 =  7.00000001\n"
     ]
    }
   ],
   "source": [
    "# 1x − 2y + 3z = 1\n",
    "# 2x + 1y − 1z = 3\n",
    "#−1x + 1y + 2z = 7\n",
    " \n",
    "#A1為=左邊的x,y,z之係數\n",
    "A1 = np.array([\n",
    "    [ 1, -2, 3],\n",
    "    [ 2, 1, -1],\n",
    "    [ -1, 1, 2 ]\n",
    "    ])\n",
    "\n",
    "#Y1為各行的=右邊之常數\n",
    "Y1 = np.array([\n",
    "    [1],[3],[7]\n",
    "    ])\n",
    "\n",
    "#用np求x,y,z\n",
    "X1 = np.linalg.solve(A1, Y1)\n",
    "print('X1=\\n', X1) "
   ]
  },
  {
   "cell_type": "code",
   "execution_count": 30,
   "id": "4af463d1",
   "metadata": {},
   "outputs": [
    {
     "name": "stdout",
     "output_type": "stream",
     "text": [
      "[ 1 -2  3]\n"
     ]
    }
   ],
   "source": [
    "a5 = A1 [0]\n",
    "print (a5)"
   ]
  },
  {
   "cell_type": "code",
   "execution_count": 29,
   "id": "eab60a69",
   "metadata": {},
   "outputs": [
    {
     "name": "stdout",
     "output_type": "stream",
     "text": [
      "a1 =  1.0\n",
      "a2 =  2.99999999\n",
      "a3 =  7.00000001\n"
     ]
    }
   ],
   "source": [
    "#驗算\n",
    "a1 = 1 * 0.94444444 + (-2) * 3.38888889 + 3 * 2.27777778\n",
    "a2 = 2 * 0.94444444 + 1 * 3.38888889 + (-1) * 2.27777778\n",
    "a3 = (-1) * 0.94444444 + 1 * 3.38888889 + 2 * 2.27777778  \n",
    "\n",
    "print('a1 = ', a1)\n",
    "print('a2 = ', a2)\n",
    "print('a3 = ', a3)"
   ]
  },
  {
   "cell_type": "code",
   "execution_count": 20,
   "id": "e168ddcd",
   "metadata": {},
   "outputs": [
    {
     "name": "stdout",
     "output_type": "stream",
     "text": [
      "X=\n",
      " [[0.875]\n",
      " [0.125]\n",
      " [0.75 ]\n",
      " [0.125]\n",
      " [2.   ]]\n"
     ]
    }
   ],
   "source": [
    "# 1x − 2y + 3z + 1u − 2v = −1\n",
    "# 2x + 1y − 1z − 1u + 1v =  3\n",
    "#−1x + 1y + 2z + 2u (+ 3v) =  7\n",
    "# 2x + 1y − 1z − 1u + 2v =  5\n",
    "# 1x + 3y − 2z + 2u − 2v = −4\n",
    "\n",
    "A2 = np.array([\n",
    "    [ 1, -2, 3, 1 , -2],\n",
    "    [ 2, 1, -1, -1, 1],\n",
    "    [ -1, 1, 2 , 2, 3],\n",
    "    [ 2, 1, -1, -1, 2],\n",
    "    [ 1, 3, -2, 2, -2]\n",
    "    ])\n",
    "\n",
    "Y2 = np.array([\n",
    "    [-1],[3],[7],[5],[-4]\n",
    "    ])\n",
    "\n",
    "X2 = np.linalg.solve(A2, Y2)\n",
    "print('X=\\n', X2) \n"
   ]
  },
  {
   "cell_type": "code",
   "execution_count": 32,
   "id": "a2380aba",
   "metadata": {},
   "outputs": [
    {
     "name": "stdout",
     "output_type": "stream",
     "text": [
      "b1 =  -1.0\n",
      "b2 =  3.0\n",
      "b3 =  7.0\n",
      "b4 =  5.0\n",
      "b5 =  -4.0\n"
     ]
    }
   ],
   "source": [
    "b1 = 1*0.875 + (-2)*0.125 + 3*0.75 + 1*0.125 + (-2)*2\n",
    "b2 = 2*0.875 + 1*0.125 + (-1)*0.75 + (-1)*0.125 + 1*2\n",
    "b3 = -1*0.875 + 1*0.125 + 2*0.75 + 2*0.125 + 3*2\n",
    "b4 = 2*0.875 + 1*0.125 + (-1)*0.75 + (-1)*0.125 + 2*2\n",
    "b5 = 1*0.875 + 3*0.125 + (-2)*0.75 + 2*0.125 + (-2)*2\n",
    "\n",
    "print('b1 = ', b1)\n",
    "print('b2 = ', b2)\n",
    "print('b3 = ', b3)\n",
    "print('b4 = ', b4)\n",
    "print('b5 = ', b5)"
   ]
  },
  {
   "cell_type": "code",
   "execution_count": null,
   "id": "bfee327d",
   "metadata": {},
   "outputs": [],
   "source": [
    "#方法太笨 10階就沒做了"
   ]
  }
 ],
 "metadata": {
  "kernelspec": {
   "display_name": "Python 3",
   "language": "python",
   "name": "python3"
  },
  "language_info": {
   "codemirror_mode": {
    "name": "ipython",
    "version": 3
   },
   "file_extension": ".py",
   "mimetype": "text/x-python",
   "name": "python",
   "nbconvert_exporter": "python",
   "pygments_lexer": "ipython3",
   "version": "3.8.8"
  }
 },
 "nbformat": 4,
 "nbformat_minor": 5
}
